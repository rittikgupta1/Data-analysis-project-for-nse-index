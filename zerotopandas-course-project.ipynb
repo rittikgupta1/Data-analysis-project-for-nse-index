{
 "cells": [
  {
   "cell_type": "markdown",
   "metadata": {},
   "source": [
    "# Analysis of NSE indexes of last 15 years\n",
    "\n",
    "In this notebook,We are going to analyse the indian stock market fot the last 15 years and try to make some great deductions regarding the growth of the sector."
   ]
  },
  {
   "cell_type": "markdown",
   "metadata": {},
   "source": [
    "## Downloading the Dataset\n",
    "\n",
    "We are going to use the `Nsepy` library for downloading the dataset for our project, Nsepy is an open-source library for getting data from National Stock Exchange of India"
   ]
  },
  {
   "cell_type": "code",
   "execution_count": null,
   "metadata": {},
   "outputs": [],
   "source": [
    "!pip install nsepy\n",
    "!pip install seaborn\n",
    "!pip install matplotlib\n"
   ]
  },
  {
   "cell_type": "markdown",
   "metadata": {},
   "source": [
    "Let's begin by downloading the data, and listing the files within the dataset."
   ]
  },
  {
   "cell_type": "markdown",
   "metadata": {},
   "source": [
    "# Making our programme dynamic\n",
    "We are going to assign the ongoing month and year to two different variable and then using them as date we are going to initiate the get_history function."
   ]
  },
  {
   "cell_type": "markdown",
   "metadata": {},
   "source": [
    "# Fetching data from nsepy\n",
    "`nsepy` has builtin library function get_history for fetching the historical data from the server.The data we get is in *csv* format,so we need to worry about \n",
    "outdation of this notebook ,we are going to use `datetime`function from the python library and create a dynamic dated programme."
   ]
  },
  {
   "cell_type": "code",
   "execution_count": null,
   "metadata": {},
   "outputs": [],
   "source": [
    "from nsepy import get_history\n",
    "from datetime import date\n",
    "import pandas as pd\n",
    "import numpy as np\n",
    "import seaborn as sns\n",
    "import matplotlib.pyplot as plt"
   ]
  },
  {
   "cell_type": "code",
   "execution_count": null,
   "metadata": {},
   "outputs": [],
   "source": [
    "date_today=date.today()\n",
    "date_month=date_today.month\n",
    "date_year=date_today.year\n",
    "print(date_month,date_year)"
   ]
  },
  {
   "cell_type": "code",
   "execution_count": null,
   "metadata": {},
   "outputs": [],
   "source": [
    "NseIndexes=[\"NIFTY 50\",\"NIFTY AUTO\",\n",
    "\"NIFTY BANK\",\n",
    "\"NIFTY FMCG\",\n",
    "\"NIFTY IT\",\n",
    "\"NIFTY MEDIA\",\n",
    "\"NIFTY METAL\",\n",
    "\"NIFTY PHARMA\",\n",
    "\"NIFTY PSU BANK\",\n",
    "\"NIFTY REALTY\",]"
   ]
  },
  {
   "cell_type": "code",
   "execution_count": null,
   "metadata": {},
   "outputs": [],
   "source": [
    "\"\"\"\"\"THIS CODE IS ONLY TO UPDATE DATASET......DELETE THIS LINE TO UPDATE DATASET OTHERWISE NO NEED TO RUN THIS CELL\n",
    "# NIFTY 50 index\n",
    "for dummy in NseIndexes:\n",
    "    dummy2=dummy+\"df\"\n",
    "    dummy2 = get_history(symbol=dummy,\n",
    "                            start=date(2008,1,1),\n",
    "                            end=date(date_year,date_month,1),\n",
    "                            index=True)\n",
    "  \n",
    "    dummy2.to_csv(dummy)\n",
    "    \"\"\"\n"
   ]
  },
  {
   "cell_type": "markdown",
   "metadata": {},
   "source": [
    "The dataset has been  extracted."
   ]
  },
  {
   "cell_type": "markdown",
   "metadata": {},
   "source": [
    "We can see that the above dataset is stored as a pandas dataframe"
   ]
  },
  {
   "cell_type": "markdown",
   "metadata": {},
   "source": [
    "Let us save our work to our local folder to stop from multiple download and make our programme effective in case of offline reading.As we are taking 1st of every month for data renewal so it would be better to save a local copy to our folder."
   ]
  },
  {
   "cell_type": "markdown",
   "metadata": {},
   "source": [
    "## Data Preparation and Cleaning\n",
    "\n",
    "**WE CAN'T JUST CALL THE DIFFERENT CSV FILES EACH TIME SO WE NEED TO MERGE ALL THE CSV INTO ONE CSV BY DATE** \n",
    "\n"
   ]
  },
  {
   "cell_type": "code",
   "execution_count": null,
   "metadata": {},
   "outputs": [],
   "source": [
    "\"\"\"\"\"THIS CODE IS ONLY TO UPDATE DATASET......DELETE THIS LINE TO UPDATE DATASET OTHERWISE NO NEED TO RUN THIS CELL\n",
    "for df in NseIndexes:\n",
    "        data=pd.read_csv(df)\n",
    "        data.drop([\"High\",\"Low\",\"Close\",\"Volume\",\"Turnover\"], axis = 1, inplace = True) \n",
    "        data = data.loc[:, ~df.columns.str.contains('^Unnamed')]\n",
    "        data.to_csv(df)\n",
    "\n",
    "running = True\n",
    "data=pd.read_csv(\"NIFTY 50\")\n",
    "while running:\n",
    "    for df in NseIndexes:\n",
    "        data2=pd.read_csv(NseIndexes[NseIndexes.index(df)+1])\n",
    "        data=data.merge(data2, on=\"Date\" )\n",
    "        data.to_csv('final')\n",
    "\"\"\"        "
   ]
  },
  {
   "cell_type": "code",
   "execution_count": null,
   "metadata": {},
   "outputs": [],
   "source": [
    "NseIndexes"
   ]
  },
  {
   "cell_type": "markdown",
   "metadata": {},
   "source": [
    "**These are all the datasets we have, we are going to merge them.**\n",
    "    "
   ]
  },
  {
   "cell_type": "code",
   "execution_count": null,
   "metadata": {},
   "outputs": [],
   "source": [
    "nifty_df=pd.read_csv(\"final.csv\")\n",
    "\n",
    "final_df=nifty_df.loc[:, ~nifty_df.columns.str.match('Unnamed')]\n",
    "final_df\n",
    "\n"
   ]
  },
  {
   "cell_type": "markdown",
   "metadata": {},
   "source": [
    "### TILL NOW WE HAVE FILTERED OUR DATA AND GOT THE FINAL CSV FILE THAT WE REQUIRE TO WORK ON.\n",
    "\n",
    " - *The commented out code is to be only run if we need to update the data in future Actually we need it just to work in future and not make our code outdated*"
   ]
  },
  {
   "cell_type": "markdown",
   "metadata": {},
   "source": [
    "## Exploratory Analysis and Visualization\n",
    "\n",
    "Here we are going to visualize some graphs on the basis of different index of the share market of India.Nifty is the official key index of the National Stock Exchange of India.It has many sectoral index.\n"
   ]
  },
  {
   "cell_type": "markdown",
   "metadata": {},
   "source": [
    "Let's begin by importing`matplotlib.pyplot` and `seaborn`."
   ]
  },
  {
   "cell_type": "code",
   "execution_count": null,
   "metadata": {},
   "outputs": [],
   "source": [
    "import seaborn as sns\n",
    "import datetime\n",
    "import matplotlib\n",
    "import matplotlib.pyplot as plt\n",
    "%matplotlib inline\n",
    "\n",
    "sns.set_style('darkgrid')\n",
    "matplotlib.rcParams['font.size'] = 14\n",
    "matplotlib.rcParams['figure.figsize'] = (9, 5)\n",
    "matplotlib.rcParams['figure.facecolor'] = '#00000000'"
   ]
  },
  {
   "cell_type": "code",
   "execution_count": null,
   "metadata": {},
   "outputs": [],
   "source": [
    "final_df_describe=final_df.describe()"
   ]
  },
  {
   "cell_type": "code",
   "execution_count": null,
   "metadata": {},
   "outputs": [],
   "source": [
    "final_df.loc[0]"
   ]
  },
  {
   "cell_type": "markdown",
   "metadata": {},
   "source": [
    "In the above two cells,we can see that we have 2284 rows of data starting from the date 2011-07-11.We have aroud 10 years of data and the maximum value of all the index and minimum value of all the indexes."
   ]
  },
  {
   "cell_type": "code",
   "execution_count": null,
   "metadata": {},
   "outputs": [],
   "source": [
    "final_df['Date'] = pd.to_datetime(final_df.Date)\n",
    "final_df.info()\n"
   ]
  },
  {
   "cell_type": "markdown",
   "metadata": {},
   "source": [
    "###### Here the datatype of the date has been changed to date time ."
   ]
  },
  {
   "cell_type": "code",
   "execution_count": null,
   "metadata": {},
   "outputs": [],
   "source": [
    "columns=list(final_df.columns)\n",
    "columns.remove(\"Date\")\n",
    "\n",
    "\n"
   ]
  },
  {
   "cell_type": "markdown",
   "metadata": {},
   "source": [
    "We have created a list of columns and now we will print the graph of all individual indexes"
   ]
  },
  {
   "cell_type": "code",
   "execution_count": null,
   "metadata": {},
   "outputs": [],
   "source": [
    "for headers in columns:\n",
    "    plt.figure(figsize=(30, 15))\n",
    "    nifty_50=final_df[[headers]]\n",
    "    date=final_df.Date           \n",
    "    plt.plot(date,nifty_50,)\n",
    "    plt.xlabel('DATE')\n",
    "    plt.ylabel('PRICE(IN RS )')\n",
    "    plt.title(headers)\n",
    "    plt.legend([headers])"
   ]
  },
  {
   "cell_type": "markdown",
   "metadata": {},
   "source": [
    "In the above graph of nifty 50, the market fall from mid 2015,2018 year end and 2020 year's onset due to the chinese market crash in 2015 and usa-china trade war in 2018 end and due to corona in 2020."
   ]
  },
  {
   "cell_type": "markdown",
   "metadata": {},
   "source": [
    "#### The above graphs shows that Nifty 50,Nifty Auto and Nifty Bank are more stable than all other sectors."
   ]
  },
  {
   "cell_type": "markdown",
   "metadata": {},
   "source": [
    "## Asking and Answering Questions\n",
    "\n",
    "In this section , we are going to get some answers to the common question regarding the data of the Nse Indexes.\n",
    "\n"
   ]
  },
  {
   "cell_type": "markdown",
   "metadata": {},
   "source": [
    "#### Q1: What is percentage growth of all the sectorial index in the last five year i.e,from 2015 to 2020 and Which  sector has the most growth"
   ]
  },
  {
   "cell_type": "code",
   "execution_count": null,
   "metadata": {},
   "outputs": [],
   "source": [
    "final_df_date=final_df.copy()\n",
    "final_df_date.set_index('Date', inplace=True)\n",
    "\n"
   ]
  },
  {
   "cell_type": "code",
   "execution_count": null,
   "metadata": {},
   "outputs": [],
   "source": [
    "date2015=final_df_date.loc['2015-01-01']\n",
    "date2015"
   ]
  },
  {
   "cell_type": "code",
   "execution_count": null,
   "metadata": {},
   "outputs": [],
   "source": [
    "datenow=final_df_date.iloc[-1]\n",
    "datenow"
   ]
  },
  {
   "cell_type": "code",
   "execution_count": null,
   "metadata": {},
   "outputs": [],
   "source": [
    "percentage_growth=((datenow-date2015)/date2015)*100\n",
    "percentage_growth"
   ]
  },
  {
   "cell_type": "code",
   "execution_count": null,
   "metadata": {},
   "outputs": [],
   "source": [
    "plt.figure(figsize=(30, 10));\n",
    "plt.bar(NseIndexes,percentage_growth);\n",
    "plt.xlabel('INDEX');\n",
    "plt.ylabel('PERCENTAGE');\n",
    "plt.title(\"Percentage Growth\");"
   ]
  },
  {
   "cell_type": "markdown",
   "metadata": {},
   "source": [
    "From the  above graph, we can clearly see that the IT sector has the best returns in the last five years"
   ]
  },
  {
   "cell_type": "markdown",
   "metadata": {},
   "source": [
    "#### Q2:Which sector has the lowest growth in the last 5 years?"
   ]
  },
  {
   "cell_type": "markdown",
   "metadata": {},
   "source": [
    "`NIFTY PSU BANK` has the lowest growth in  the last five years due to many forgery done by indian banks "
   ]
  },
  {
   "cell_type": "markdown",
   "metadata": {},
   "source": [
    "###### We can see that most of the sector in the graph above shows negative or very low return this is probably due to the COVID-19 impact on the stock market and economy ."
   ]
  },
  {
   "cell_type": "markdown",
   "metadata": {},
   "source": [
    "#### Q3: When did the nifty 50 crashed and  it went down more than 20% within a month??\n",
    "*Here market crash is measured with Nifty 50 crash because it include best 50 stocks of the NSE.*"
   ]
  },
  {
   "cell_type": "code",
   "execution_count": null,
   "metadata": {},
   "outputs": [],
   "source": [
    "final_2=final_df.copy()\n",
    "\n",
    "final_2['year'] = pd.DatetimeIndex(final_2.Date).year\n",
    "final_2['month'] = pd.DatetimeIndex(final_2.Date).month\n",
    "final_2['day'] = pd.DatetimeIndex(final_2.Date).day\n",
    "final_2['weekday'] = pd.DatetimeIndex(final_2.Date).weekday\n",
    "nifty_df=final_2[['NIFTY_50','Date','year','month','weekday','day']]\n",
    "nifty_df.set_index('Date', inplace=True)\n",
    "nifty_df\n",
    "\n",
    "\n"
   ]
  },
  {
   "cell_type": "code",
   "execution_count": null,
   "metadata": {},
   "outputs": [],
   "source": [
    "losing_months=[]\n",
    "for i in range(2011,date_year+1):\n",
    "    for n in range(1,13):\n",
    "        nifty_df_yearly=nifty_df[nifty_df.year==i]\n",
    "        nifty_df_monthly=nifty_df_yearly[nifty_df_yearly.month==n]\n",
    "        if(nifty_df_monthly.empty):\n",
    "            continue\n",
    "        else:   \n",
    "            start_day=nifty_df_monthly.iat[0,0]\n",
    "            end_day=nifty_df_monthly.iat[-1,0]\n",
    "            fall=((start_day-end_day)/start_day)*100\n",
    "            if(fall>=20):\n",
    "                losing_months.append('MM-YYY:'+'0'+str(n)+':'+str(i)+'    '+'percentage_fall:'+ str(fall))\n",
    "            else:\n",
    "                continue\n",
    "print(losing_months)     \n",
    "            \n",
    "            \n",
    "        \n",
    "    \n",
    "     \n",
    "      "
   ]
  },
  {
   "cell_type": "markdown",
   "metadata": {},
   "source": [
    "###### So, from above code we can see that the market fall nearly 25% in the month of March in 2020"
   ]
  },
  {
   "cell_type": "markdown",
   "metadata": {},
   "source": [
    "#### Q4:Which is the year when nifty 50 has the highest rate of return ?"
   ]
  },
  {
   "cell_type": "code",
   "execution_count": null,
   "metadata": {},
   "outputs": [],
   "source": [
    "#Here we are going to make a dictionary to get the returns in it\n",
    "dict_obj={}\n",
    "dict_obj['years']=[]\n",
    "dict_obj['returns']=[]\n",
    "for i in range(2011,date_year+1):\n",
    "    nifty_df_yearly=nifty_df[nifty_df.year==i]\n",
    "    start_day=nifty_df_yearly.iat[0,0]\n",
    "    end_day=nifty_df_yearly.iat[-1,0]\n",
    "    returns=((end_day-start_day)/start_day)*100\n",
    "    dict_obj['years'].append(i)\n",
    "    dict_obj['returns'].append(returns)\n",
    "\n",
    "        \n",
    "    \n"
   ]
  },
  {
   "cell_type": "code",
   "execution_count": null,
   "metadata": {},
   "outputs": [],
   "source": [
    "dict_obj\n",
    "rpy=pd.DataFrame(dict_obj)\n",
    "rpy\n",
    "        "
   ]
  },
  {
   "cell_type": "code",
   "execution_count": null,
   "metadata": {
    "scrolled": true
   },
   "outputs": [],
   "source": [
    "sns.barplot('years', 'returns', data=rpy);"
   ]
  },
  {
   "cell_type": "markdown",
   "metadata": {},
   "source": [
    "So from the above graph we can see that the year 2014 has the highest return of 30% followed by 2017.Here is an intresting observation we can see that the nifty gives a high return followed by a year with low return."
   ]
  },
  {
   "cell_type": "markdown",
   "metadata": {},
   "source": [
    "## Conclusion\n",
    "\n",
    "In the above notebook,we have gained some insights from the nifty 10 year data.The data is extracted using nsepy module and then analysed with the help of pandas,numpy and matplot library..You can create your own notebook using this version"
   ]
  }
 ],
 "metadata": {
  "kernelspec": {
   "display_name": "Python 3",
   "language": "python",
   "name": "python3"
  },
  "language_info": {
   "codemirror_mode": {
    "name": "ipython",
    "version": 3
   },
   "file_extension": ".py",
   "mimetype": "text/x-python",
   "name": "python",
   "nbconvert_exporter": "python",
   "pygments_lexer": "ipython3",
   "version": "3.8.5"
  }
 },
 "nbformat": 4,
 "nbformat_minor": 4
}
